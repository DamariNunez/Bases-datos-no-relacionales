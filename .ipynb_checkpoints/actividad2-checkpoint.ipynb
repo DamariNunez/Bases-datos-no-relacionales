{
 "cells": [
  {
   "cell_type": "markdown",
   "metadata": {
    "id": "WjPdGu1Qzuyj"
   },
   "source": [
    "![VIU](content/viu.jpg \"Logo\")\n",
    "\n",
    "Integrantes del grupo:\n",
    "\n",
    "* Alexander Raúl Ortiz Insuasti\n",
    "\n",
    "* Dámaris Daniela Núñez Pérez\n",
    "\n",
    "* Jimmy Saúl Yar Carvajal"
   ]
  },
  {
   "cell_type": "markdown",
   "metadata": {
    "id": "5xtA-tyzxxOv"
   },
   "source": [
    "**Índice**\n",
    "\n",
    "1. Introducción\n",
    "\n",
    "\n",
    "2. Obtención de los datos de fuentes de datos abiertas\n",
    "    \n",
    "    2.1. Repositorio Open Data\n",
    "    \n",
    "    2.2. Definir el dataset, detallando sus campos\n",
    "    \n",
    "    2.3. Descargar el dataset (formato Json)\n",
    "\n",
    "\n",
    "3. Diseño de la base de datos\n",
    "\n",
    "    3.1. Diseño conceptual y lógico\n",
    "\n",
    "    3.2. Diseño físico\n",
    "\n",
    "        3.2.1. Crear las colecciones\n",
    "\n",
    "        3.2.2. Elección de modelo y explicación\n",
    "\n",
    "        3.2.3. Validación de esquema (Opcional)\n",
    "\n",
    "4. Despliegue de la base de datos\n",
    "\n",
    "    4.1. Cadena de conexión en local\n",
    "\n",
    "    4.2. Prueba de conexión en local\n",
    "\n",
    "    4.3. Despliegue en local\n",
    "\n",
    "    4.4. Inserciones en local\n",
    "\n",
    "    4.5. Cadena de conexión en la nube\n",
    "\n",
    "    4.6. Prueba de conexión en la nube\n",
    "\n",
    "    4.7. Despliegue en la nube\n",
    "\n",
    "    4.8. Inserciones en la nube\n",
    "\n",
    "\n",
    "5. Consultas a base de datos\n",
    "\n",
    "    5.1 Consultas básicas\n",
    "\n",
    "    5.2 Consultas avanzadas (Opcional)\n",
    "\n",
    "\n",
    "6. MongoDB Charts (Opcional)\n",
    "\n",
    "\n",
    "7. Conclusiones"
   ]
  },
  {
   "cell_type": "markdown",
   "metadata": {
    "id": "oAfLjHdc1Axo"
   },
   "source": [
    "# Introducción"
   ]
  },
  {
   "cell_type": "markdown",
   "metadata": {
    "id": "xKqjMklj1ia-"
   },
   "source": [
    "Los Gobiernos Autónomos Desentralizados de los doscientos veinte y un cantones del Ecuador requieren contratar servicios para cumplir con obras en beneficio de la ciudadanía, por lo tanto, anualmente cada uno se encarga de acordar un intercambio de intereses entre empresas y la Administración Pública. \n",
    "\n",
    "Debido a esto, se desea obtener la información del municipio comprador y los contratos públicos que ha tenido. Además, se desea conocer la cantidad de contratos que se han completado en el año 2021."
   ]
  },
  {
   "cell_type": "markdown",
   "metadata": {
    "id": "jMVrsrc_1En5"
   },
   "source": [
    "# Obtención de los datos de fuentes de datos abiertas\n"
   ]
  },
  {
   "cell_type": "markdown",
   "metadata": {
    "id": "rPRmENCr1tal"
   },
   "source": [
    "## Repositorio Open Data \n",
    "Los datos han sido elegidos de el sitio web oficial del Servicio Nacional de Contratación Pública, en donde se puede encontrar el apartado Datos Abiertos de contratación pública del Ecuador en OCDS.\n",
    "\n",
    "En esta sección se puede descargar los procedimientos de contratación por año, mes y tipo de contratación, en formato json, csv y xlsx. Además puede consultar la API de contratación pública del Ecuador en OCDS.\n",
    "\n",
    "El link es el siguiente: [Repositorio Open Data](https://datosabiertos.compraspublicas.gob.ec/PLATAFORMA/datos-abiertos \"url\")\n",
    "\n",
    "El acceso al fichero json es el siguiente: [Dataset](https://datosabiertos.compraspublicas.gob.ec/PLATAFORMA/download?type=json&year=2021&month=0&method=Repuestos%20o%20Accesorios \"url\")"
   ]
  },
  {
   "cell_type": "markdown",
   "metadata": {
    "id": "zrhhEHgI11yo"
   },
   "source": [
    "## Definir el dataset, detallando sus campos\n",
    "| Campo          | Descripción          |\n",
    "|----------------|----------------------|\n",
    "| idContrato     | Identificador de la contratación pública  |\n",
    "| descripcion    | Describir de manera detallada el contrato |\n",
    "| estado         | Situación en la cual se encuentra el contrato |\n",
    "| cantidad       | Valor total por el cual se realizó en contrato |\n",
    "| moneda         | Unidad representativa del precio de las cosas que permite efectuar transacciones comerciales |\n",
    "| fechaInicio    | Fecha en la cual se empezó con el contrato del bien o servicio |\n",
    "| fechaFin       | Fecha en la cual se terminó la compra del bien o servicio |\n",
    "| duracionDias   | Cantidad de días que duró el contrato |\n",
    "| idComprador    | Identificador del comprador | \n",
    "| nombreComprador| Nombre del municipio comprador            |\n",
    "| region         | División territorial de un país |\n",
    "| localidad      | Pueblo o ciudad |\n",
    "| nombrePais     | País que realiza la contratación pública​ |\n",
    "| direccion      | Indicación de la orientación o destino |\n",
    "| idProveedor    | Identificación del proveedor |\n",
    "| nombreProveedor| Nombre de la empresa que provee el bien o servicio |\n",
    "\n",
    "\n",
    "\n",
    "\n"
   ]
  },
  {
   "cell_type": "markdown",
   "metadata": {
    "id": "VkUvjWNn16Es"
   },
   "source": [
    "## Descargar el dataset (formato Json)"
   ]
  },
  {
   "cell_type": "code",
   "execution_count": null,
   "metadata": {
    "id": "bZ7AdHvlYJCh"
   },
   "outputs": [],
   "source": [
    "# Libreiria para descargar datasets\n",
    "!pip install opendatasets"
   ]
  },
  {
   "cell_type": "code",
   "execution_count": null,
   "metadata": {
    "id": "9pf9qIqsYRTt"
   },
   "outputs": [],
   "source": [
    "# Importar libreria para descargar los datasets\n",
    "import opendatasets as od\n",
    "# Importar libreria para crear un directorio temporal\n",
    "import tempfile\n",
    "# Libreria para extraer un archivo .zip\n",
    "import shutil"
   ]
  },
  {
   "cell_type": "code",
   "execution_count": null,
   "metadata": {
    "id": "xgOVXc9AYcCg"
   },
   "outputs": [],
   "source": [
    "# Crear una carpeta temporal para poder extrar el el json que esta dentro de un zip\n",
    "with tempfile.TemporaryDirectory() as d:\n",
    "        ruta = d+'viu'\n",
    "        od.download(\"https://datosabiertos.compraspublicas.gob.ec/PLATAFORMA/download?type=json&year=2021&month=0&method=Repuestos%20o%20Accesorios\",ruta)\n",
    "# Descargar datos\n",
    "shutil.unpack_archive(ruta+'/releases_2021_repuestos_o_accesorios.zip')"
   ]
  },
  {
   "cell_type": "markdown",
   "metadata": {
    "id": "ODKEE3PI1Hco"
   },
   "source": [
    "# Diseño de la base de datos"
   ]
  },
  {
   "cell_type": "markdown",
   "metadata": {
    "id": "vo6i5lXm2KTJ"
   },
   "source": [
    "## Diseño conceptual y lógico\n",
    "El modelo conceptual se realizó en la herramienta draw.io, el cual permitió identificar los campos que van a ser requeridos para llegar a la conslusión planteada, para lo cual se seleccionó información relevante del proveedor, como el identificador y el nombre; además de los datos generales del contrato público, como el identificador, la descripción, el estado, el tipo de contrato, la cantidad, la moneda, la fecha en la que se inició, la fecha en la que finalizó y la duración en días; y la información del comprador, como el identificador, el nombre, la región, la localidad, el país y la dirección.\n",
    "\n"
   ]
  },
  {
   "cell_type": "markdown",
   "metadata": {
    "id": "Wwv8aZ03l6j9"
   },
   "source": [
    "![modelo_datos](content/modelo_datos.png \"modelo_datos\")"
   ]
  },
  {
   "cell_type": "markdown",
   "metadata": {
    "id": "6fZYPYZz2bX_"
   },
   "source": [
    "## Diseño físico"
   ]
  },
  {
   "cell_type": "markdown",
   "metadata": {
    "id": "Vg70L3FL2gBF"
   },
   "source": [
    "### Crear las colecciones\n",
    "\n",
    "```mongodb\n",
    "db.createCollection('contrato');\n",
    "\n",
    "db.createCollection('proveedor');\n",
    "\n",
    "db.createCollection('comprador');\n",
    "```                      \n",
    "\n",
    "\n"
   ]
  },
  {
   "cell_type": "markdown",
   "metadata": {
    "id": "9C_g9NK42mFO"
   },
   "source": [
    "### Elección de modelo y explicación\n",
    "Se ha seleccionado el modelo **con documentos referencial**, debido a que se tomó la decisión de crear tres colecciones llamadas contrato, proveedor y comprador.\n",
    "\n",
    "Las referencias almacenan las relaciones entre los datos incluyendo\n",
    "enlaces o referencias de un documento a otro. Las aplicaciones\n",
    "pueden resolver estas referencias para acceder a los datos relacionados. Son modelos de datos normalizados.\n",
    "\n",
    "Cada uno de las colecciones va a contener sus propios documentos.\n"
   ]
  },
  {
   "cell_type": "markdown",
   "metadata": {
    "id": "9aoM3ySG25Q5"
   },
   "source": [
    "### Validación de esquema \n",
    "**Primer paso:** Para validar el esquema es necesario identificar las reglas que deben cumplir los campos.                                   \n",
    "\n",
    "**Campos del contrato:**\n",
    "\n",
    "* **id:** Debe de ser un string\n",
    "\n",
    "* **descripción:** Debe de ser un string\n",
    "\n",
    "* **estado:** Debe de ser un string\n",
    "\n",
    "* **cantidad:** Debe de ser un double\n",
    "\n",
    "* **moneda:** Debe de ser un string\n",
    "\n",
    "* **fechaInicio:** Debe de ser un date\n",
    "\n",
    "* **fechaFin:** Debe de ser un date\n",
    "\n",
    "* **duracionDias:** Debe de ser un int\n",
    "\n",
    "\n",
    "**Campos del proveedor:**\n",
    "\n",
    "* **idProveedor:** Debe de ser un ObjectID\n",
    "\n",
    "* **nombreProveedor:** Debe de ser un string\n",
    "\n",
    "**Campos del compador**\n",
    "\n",
    "* **idComprador:** Debe de ser un ObjectID\n",
    "\n",
    "* **nombreComprador:** Debe de ser un string\n",
    "\n",
    "* **region:** Debe de ser un string\n",
    "\n",
    "* **localidad:** Debe de ser un string\n",
    "\n",
    "* **nombrePais:** Debe de ser un string\n",
    "\n",
    "* **direccion:** Debe de ser un string\n"
   ]
  },
  {
   "cell_type": "markdown",
   "metadata": {
    "id": "MZsE7JOY2VeV"
   },
   "source": [
    "**Segundo paso:** Una vez que se tenga definidas las carcterísticas de los campos, se procede a realizar la validación\n",
    " "
   ]
  },
  {
   "cell_type": "code",
   "execution_count": null,
   "metadata": {
    "id": "WXdKLEp0eDIF"
   },
   "outputs": [],
   "source": [
    "db.runCommand({\n",
    "  collMod: \"contrato\",\n",
    "  validator: {\n",
    "    $jsonSchema: {\n",
    "      bsonType: \"object\",\n",
    "      required: [\"idContrato\"],\n",
    "      properties: {\n",
    "        idContrato: {\n",
    "          bsonType: \"string\",\n",
    "          pattern: \"^[0-9][A-Z]$\",\n",
    "          description: \"El formato debe contener letras en mayusculas y numeros, sin espacios\"\n",
    "        },\n",
    "        descripcion: {\n",
    "          bsonType: \"string\",\n",
    "          description: \"Debe informar los detalles generales del bien o servicio alquirido\"\n",
    "        },\n",
    "        estado: {\n",
    "          bsonType: \"string\",\n",
    "          description: \"Debe informar la situación en la que se encuentra el contrato\"\n",
    "        },\n",
    "        cantidad: {\n",
    "          bsonType: \"double\",\n",
    "          description: \"El valor de cantidad debe ser un double\"\n",
    "        },\n",
    "        moneda: {\n",
    "          bsonType: \"string\",\n",
    "          description: \"Unidad representativa del precio de las cosas que permite efectuar transacciones comerciales\"\n",
    "        },\n",
    "        fechaInicio: {\n",
    "          bsonType: \"string\",\n",
    "          description: \"Fecha en la cual se empezó con el contrato del bien o servicio\"\n",
    "        },\n",
    "        fechaFin: {\n",
    "          bsonType: \"string\",\n",
    "          description: \"Fecha en la cual se terminó la compra del bien o servicio\"\n",
    "        },\n",
    "        duracionDias: {\n",
    "          bsonType: \"int\",\n",
    "          minimum: 1,\n",
    "          description: \"Cantidad de días que duró el contrato\"\n",
    "        }\n",
    "      },\n",
    "    },\n",
    "  },\n",
    "});      "
   ]
  },
  {
   "cell_type": "code",
   "execution_count": null,
   "metadata": {
    "id": "VKmmN0rBaRDY"
   },
   "outputs": [],
   "source": [
    "db.runCommand({\n",
    "  collMod: \"comprador\",\n",
    "  validator: {\n",
    "    $jsonSchema: {\n",
    "      bsonType: \"object\",\n",
    "      required: [\"idComprador\"],\n",
    "      properties: {\n",
    "        idComprador: {\n",
    "          bsonType: \"string\",\n",
    "          pattern: \"^[0-9][A-Z]$\",\n",
    "          description: \"El formato debe contener letras en mayusculas y numeros, sin espacios\"\n",
    "        },\n",
    "        nombreComprador: {\n",
    "          bsonType: \"string\",\n",
    "          description: \"Nombre del municipio comprador\"\n",
    "        },\n",
    "        region: {\n",
    "          bsonType: \"string\",\n",
    "          description: \"División territorial de un país\"\n",
    "        },\n",
    "        localidad: {\n",
    "          bsonType: \"string\",\n",
    "          description: \"Pueblo o ciudad\"\n",
    "        },\n",
    "        nombrePais: {\n",
    "          bsonType: \"string\",\n",
    "          description: \"País que realiza la contratación pública\"\n",
    "        },\n",
    "        direccion: {\n",
    "          bsonType: \"string\",\n",
    "          description: \"Indicación de la orientación o destino\",\n",
    "        }\n",
    "      },\n",
    "    },\n",
    "  },\n",
    "});"
   ]
  },
  {
   "cell_type": "code",
   "execution_count": null,
   "metadata": {
    "id": "npfGgkJeaY6W"
   },
   "outputs": [],
   "source": [
    "db.runCommand({\n",
    "  collMod: \"proveedor\",\n",
    "  validator: {\n",
    "    $jsonSchema: {\n",
    "      bsonType: \"object\",\n",
    "      required: [\"idProveedor\"],\n",
    "      properties: {\n",
    "        idProveedor: {\n",
    "          bsonType: \"string\",\n",
    "          pattern: \"^[0-9][A-Z]$\",\n",
    "          description: \"El formato debe contener letras en mayusculas y numeros, sin espacios\"\n",
    "        },\n",
    "        nombreProveedor: {\n",
    "          bsonType: \"string\",\n",
    "          description: \"Nombre del municipio proveedor\"\n",
    "        }\n",
    "      },\n",
    "    },\n",
    "  },\n",
    "});"
   ]
  },
  {
   "cell_type": "markdown",
   "metadata": {
    "id": "g3n0UX4C1Jcu"
   },
   "source": [
    "# Despliegue de la base de datos\n"
   ]
  },
  {
   "cell_type": "markdown",
   "metadata": {
    "id": "18SNjOLs4AKN"
   },
   "source": [
    "## Cadena de conexión en local"
   ]
  },
  {
   "cell_type": "markdown",
   "metadata": {
    "id": "s5Bf1IcdiChA"
   },
   "source": [
    "Instalar la librería pymongo, para trabajar con bases de datos no relacionales MongoDB\n",
    "\n",
    "```!pip install pymongo```\n",
    "\n",
    "Instalar pymongo srv si tiene problemas al conectarse por Dnspython\n",
    "\n",
    "```!python -m pip install pymongo[srv]```\n",
    "\n",
    "Se usa la librería pymongo\n",
    "\n",
    "```import pymongo```\n",
    "\n",
    "Crear cadena de conexion a mongodb en local\n",
    "\n",
    "```uri_mongo = \"mongodb://localhost:27017/\"```\n",
    "\n",
    "Conectarse a MongoDB\n",
    "\n",
    "```conexion = pymongo.MongoClient(uri_mongo)```\n",
    "\n",
    "Consultar todas las bases de datos que existen\n",
    "\n",
    "```python\n",
    "todas_bbdd = conexion.list_database_names()\n",
    "for bbdd in todas_bbdd:\n",
    "    print(bbdd)\n",
    "```"
   ]
  },
  {
   "cell_type": "markdown",
   "metadata": {
    "id": "lNXEoDpH5FnQ"
   },
   "source": [
    "## Prueba de conexión en local"
   ]
  },
  {
   "cell_type": "code",
   "execution_count": null,
   "metadata": {
    "id": "bkl2eNuC5KBv"
   },
   "outputs": [],
   "source": [
    "!pip install pymongo\n",
    "!python -m pip install pymongo[srv]\n",
    "import pymongo\n",
    "uri_mongo = \"mongodb://localhost:27017/\" \n",
    "conexion = pymongo.MongoClient(uri_mongo)\n",
    "# Consultar todas las bases de datos que existen\n",
    "todas_bbdd = conexion.list_database_names()\n",
    "for bbdd in todas_bbdd:\n",
    "    print(bbdd)"
   ]
  },
  {
   "cell_type": "markdown",
   "metadata": {
    "id": "lc8-D5J32OQI"
   },
   "source": [
    "## Despliegue en local\n",
    "\n",
    "MongoDB es un programa de base de datos orientado a documentos. MongoDB se clasifica como un programa de base de datos NoSQL y utiliza documentos similares a JSONcon esquema.\n",
    "\n",
    "Para crear una base de datos y agreguar su primera colección al mismo tiempo:\n",
    "\n",
    "- Haga clic en “Crear base de datos” para abrir el cuadro de diálogo en MongoDB Compass\n",
    "- Ingrese el nombre de la base de datos y su primera colección\n",
    "- Haga clic en “Crear base de datos” \n",
    "\n",
    "El siguiente paso es insertar uno o más documentos en su base de datos.\n",
    "\n",
    "- Haga clic en el nombre de su base de datos para ver la colección que creó, luego haga clic en el nombre de la colección para ver la pestaña Documentos.\n",
    "\n"
   ]
  },
  {
   "cell_type": "markdown",
   "metadata": {
    "id": "w4ZgELTi6G4_"
   },
   "source": [
    "## Inserciones en local"
   ]
  },
  {
   "cell_type": "code",
   "execution_count": 21,
   "metadata": {
    "colab": {
     "base_uri": "https://localhost:8080/",
     "height": 235
    },
    "id": "qRyrT_Ni6NNE",
    "outputId": "00ce5cfd-37bd-453e-ebc0-1c9862c80207"
   },
   "outputs": [
    {
     "name": "stdout",
     "output_type": "stream",
     "text": [
      "Downloading https://datosabiertos.compraspublicas.gob.ec/PLATAFORMA/download?type=json&year=2021&month=0&method=Repuestos%20o%20Accesorios to C:\\Users\\damar\\AppData\\Local\\Temp\\tmphhadztkbviu\\releases_2021_repuestos_o_accesorios.zip\n"
     ]
    },
    {
     "name": "stderr",
     "output_type": "stream",
     "text": [
      "417792it [00:00, 878295.29it/s]                                                                                        \n"
     ]
    }
   ],
   "source": [
    "# Importar libreria pymongo\n",
    "import pymongo\n",
    "# Importar Librería json de Python\n",
    "import json\n",
    "# Importar libreria para descargar los datasets\n",
    "import opendatasets as od\n",
    "# Importar libreria para crear un directorio temporal\n",
    "import tempfile\n",
    "# Libreria para extraer un archivo .zip\n",
    "import shutil\n",
    "\n",
    "# Conexion a mongodb\n",
    "uri_mongo = \"mongodb://localhost:27017/\" \n",
    "conexion = pymongo.MongoClient(uri_mongo)\n",
    "\n",
    "# Conexion a la base de datos\n",
    "base_datos = conexion.actividad_2\n",
    "\n",
    "# Crear una carpeta temporal para poder extrar el el json que esta dentro de un zip\n",
    "with tempfile.TemporaryDirectory() as d:\n",
    "        ruta = d+'viu'\n",
    "        od.download(\"https://datosabiertos.compraspublicas.gob.ec/PLATAFORMA/download?type=json&year=2021&month=0&method=Repuestos%20o%20Accesorios\",ruta)\n",
    "# Descargar datos\n",
    "shutil.unpack_archive(ruta+'/releases_2021_repuestos_o_accesorios.zip')\n",
    "\n",
    "# Leer archivo\n",
    "with open('releases_2021_repuestos_o_accesorios.json', 'r', encoding='utf8') as fichero: \n",
    "        # load devuelve los datos almacenados en el fichero JSON\n",
    "        lector = json.load(fichero)\n",
    "        for linea in lector:\n",
    "            # Reemplazar el nombre de los campos (realmente los copia)\n",
    "            releases = linea['releases']\n",
    "            \n",
    "            comprador = {\n",
    "                \"idComprador\": releases[0]['buyer']['id'],\n",
    "                \"nombreComprador\": releases[0]['buyer']['name'],\n",
    "                \"region\": releases[0]['parties'][0]['address']['region'],\n",
    "                \"localidad\": releases[0]['parties'][0]['address']['locality'],\n",
    "                \"nombrePais\": releases[0]['parties'][0]['address']['countryName'],\n",
    "                \"direccion\": releases[0]['parties'][0]['address']['streetAddress']\n",
    "            }\n",
    "            \n",
    "            proveedor = {\n",
    "                \"idProveedor\": releases[0]['awards'][0]['suppliers'][0]['id'] if 'awards' in releases[0] else None,\n",
    "                \"nombreProveedor\": releases[0]['awards'][0]['suppliers'][0]['name'] if 'awards' in releases[0] else None\n",
    "            }  \n",
    "            \n",
    "            # Insertar coleccion\n",
    "            comprador_collection = base_datos.comprador.insert_one(comprador)\n",
    "            proveedor_collection = base_datos.proveedor.insert_one(proveedor)\n",
    "            \n",
    "            contrato = {\n",
    "                \"idContrato\": releases[0]['id'],\n",
    "                \"descripcion\": releases[0]['tender']['description'],\n",
    "                \"estado\": releases[0]['tender']['status'],\n",
    "                \"cantidad\": releases[0]['tender']['value']['amount'],\n",
    "                \"moneda\": releases[0]['tender']['value']['currency'],\n",
    "                \"fechaFin\": releases[0]['contracts'][0]['period']['endDate'] if 'contracts' in releases[0] else None,\n",
    "                \"fechaInicio\": releases[0]['contracts'][0]['period']['startDate'] if 'contracts' in releases[0] else None,\n",
    "                \"duracionDias\": releases[0]['contracts'][0]['period']['durationInDays'] if 'contracts' in releases[0] else None,\n",
    "                \"idComprador\": comprador_collection.inserted_id,\n",
    "                \"idProveedor\": proveedor_collection.inserted_id\n",
    "            }\n",
    "            \n",
    "            # Insertar coleccion\n",
    "            contrato_collection = base_datos.contrato.insert_one(contrato)\n",
    "\n"
   ]
  },
  {
   "cell_type": "markdown",
   "metadata": {
    "id": "bjvJ50c24JB4"
   },
   "source": [
    "## Cadena de conexión en la nube\n",
    "\n",
    "\n",
    "Instalar la librería pymongo, para trabajar con bases de datos no relacionales MongoDB\n",
    "\n",
    "```!pip install pymongo```\n",
    "\n",
    "Instalar pymongo srv si tiene problemas al conectarse por de Dnspython\n",
    "\n",
    "```!python -m pip install pymongo[srv]```\n",
    "\n",
    "Se usa la librería pymongo\n",
    "\n",
    "```import pymongo```\n",
    "\n",
    "Crear cadena de conexion a mongodb en local\n",
    "\n",
    "```uri_mongo = \"mongodb+srv://jimmy:<password>@cluster0.nmcts.mongodb.net\"```\n",
    "\n",
    "Conectarse a MongoDB\n",
    "\n",
    "```conexion = pymongo.MongoClient(uri_mongo)```\n",
    "\n",
    "Consultar todas las bases de datos que existen\n",
    "\n",
    "```python\n",
    "todas_bbdd = conexion.list_database_names()\n",
    "for bbdd in todas_bbdd:\n",
    "    print(bbdd)\n",
    "```"
   ]
  },
  {
   "cell_type": "markdown",
   "metadata": {
    "id": "Eomt6S8y5KuM"
   },
   "source": [
    "## 4.6. Prueba de conexión en la nube"
   ]
  },
  {
   "cell_type": "code",
   "execution_count": 25,
   "metadata": {
    "id": "zn-0Nuapq4T1"
   },
   "outputs": [
    {
     "name": "stdout",
     "output_type": "stream",
     "text": [
      "Requirement already satisfied: pymongo in c:\\users\\damar\\appdata\\local\\programs\\python\\python310\\lib\\site-packages (4.1.1)\n"
     ]
    },
    {
     "name": "stderr",
     "output_type": "stream",
     "text": [
      "WARNING: There was an error checking the latest version of pip.\n",
      "WARNING: There was an error checking the latest version of pip.\n"
     ]
    },
    {
     "name": "stdout",
     "output_type": "stream",
     "text": [
      "Requirement already satisfied: pymongo[srv] in c:\\users\\damar\\appdata\\local\\programs\\python\\python310\\lib\\site-packages (4.1.1)\n",
      "Requirement already satisfied: dnspython<3.0.0,>=1.16.0 in c:\\users\\damar\\appdata\\local\\programs\\python\\python310\\lib\\site-packages (from pymongo[srv]) (2.2.1)\n",
      "prueba\n",
      "admin\n",
      "local\n"
     ]
    }
   ],
   "source": [
    "!pip install pymongo\n",
    "!python -m pip install pymongo[srv]\n",
    "import pymongo\n",
    "uri_mongo = \"mongodb+srv://jimmy:<password>@cluster0.nmcts.mongodb.net\"\n",
    "conexion = pymongo.MongoClient(uri_mongo)\n",
    "# Consultar todas las bases de datos que existen\n",
    "todas_bbdd = conexion.list_database_names()\n",
    "for bbdd in todas_bbdd:\n",
    "    print(bbdd)"
   ]
  },
  {
   "cell_type": "markdown",
   "metadata": {
    "id": "K4ZDcq9s3OMq"
   },
   "source": [
    "## Despliegue en la nube\n",
    "\n",
    "MondoDB es una base de datos que se basa en documentos y clasifica la información mediante ficheros Json.\n",
    "\n",
    "Mongodb Atlas es un servicio el cual te permite crear y administrar bases de datos en servicios como Google Cloud Platform, AWS, y Azure. Además también se integra con otros productos de Mongodb como Mongodb Atlas, Mongodb compass, mongo shell, entre otros.\n",
    "\n",
    "### Arquitectura de MongoDB en AWS\n",
    "\n",
    "**Figura 1**\n",
    "*Arquitectura de MongoDB en AWS*\n",
    "\n",
    "![Arquitectura](content/arquitectura.png \"Arquitectura\")\n",
    "\n",
    "\n",
    "Para desplegar una base de datos en MongoDB Atlas, Primero, tuvimos que crear una cuenta en **MongoDB Atlas**, posteriormente se creará un nuevo proyecto y se construirá un clúster gratuito con el proveedor en la nube AWS.\n",
    "\n",
    "A continuación se tendrá las credenciales para la conexión en la nube."
   ]
  },
  {
   "cell_type": "markdown",
   "metadata": {
    "id": "7hVdPogW6OLj"
   },
   "source": [
    "## Inserciones en la nube"
   ]
  },
  {
   "cell_type": "code",
   "execution_count": 26,
   "metadata": {
    "id": "ddD1RwfS6RVF"
   },
   "outputs": [
    {
     "name": "stdout",
     "output_type": "stream",
     "text": [
      "Downloading https://datosabiertos.compraspublicas.gob.ec/PLATAFORMA/download?type=json&year=2021&month=0&method=Repuestos%20o%20Accesorios to C:\\Users\\damar\\AppData\\Local\\Temp\\tmp658mowp_viu\\releases_2021_repuestos_o_accesorios.zip\n"
     ]
    },
    {
     "name": "stderr",
     "output_type": "stream",
     "text": [
      "417792it [00:00, 1285053.62it/s]                                                                                       \n"
     ]
    }
   ],
   "source": [
    "# Importar libreria pymongo\n",
    "import pymongo\n",
    "# Importar Librería json de Python\n",
    "import json\n",
    "# Importar libreria para descargar los datasets\n",
    "import opendatasets as od\n",
    "# Importar libreria para crear un directorio temporal\n",
    "import tempfile\n",
    "# Libreria para extraer un archivo .zip\n",
    "import shutil\n",
    "\n",
    "# Conexion a mongodb\n",
    "uri_mongo = \"mongodb+srv://jimmy:<password>@cluster0.nmcts.mongodb.net\" \n",
    "conexion = pymongo.MongoClient(uri_mongo)\n",
    "\n",
    "# Conexion a la base de datos\n",
    "base_datos = conexion.actividad_2\n",
    "\n",
    "# Crear una carpeta temporal para poder extrar el el json que esta dentro de un zip\n",
    "with tempfile.TemporaryDirectory() as d:\n",
    "        ruta = d+'viu'\n",
    "        od.download(\"https://datosabiertos.compraspublicas.gob.ec/PLATAFORMA/download?type=json&year=2021&month=0&method=Repuestos%20o%20Accesorios\",ruta)\n",
    "# Descargar datos\n",
    "shutil.unpack_archive(ruta+'/releases_2021_repuestos_o_accesorios.zip')\n",
    "\n",
    "# Leer archivo\n",
    "with open('releases_2021_repuestos_o_accesorios.json', 'r', encoding='utf8') as fichero: \n",
    "        # load devuelve los datos almacenados en el fichero JSON\n",
    "        lector = json.load(fichero)\n",
    "        for linea in lector:\n",
    "            # Reemplazar el nombre de los campos (realmente los copia)\n",
    "            releases = linea['releases']\n",
    "            \n",
    "            comprador = {\n",
    "                \"idComprador\": releases[0]['buyer']['id'],\n",
    "                \"nombreComprador\": releases[0]['buyer']['name'],\n",
    "                \"region\": releases[0]['parties'][0]['address']['region'],\n",
    "                \"localidad\": releases[0]['parties'][0]['address']['locality'],\n",
    "                \"nombrePais\": releases[0]['parties'][0]['address']['countryName'],\n",
    "                \"direccion\": releases[0]['parties'][0]['address']['streetAddress']\n",
    "            }\n",
    "            \n",
    "            proveedor = {\n",
    "                \"idProveedor\": releases[0]['awards'][0]['suppliers'][0]['id'] if 'awards' in releases[0] else None,\n",
    "                \"nombreProveedor\": releases[0]['awards'][0]['suppliers'][0]['name'] if 'awards' in releases[0] else None\n",
    "            }  \n",
    "            \n",
    "            # Insertar coleccion\n",
    "            comprador_collection = base_datos.comprador.insert_one(comprador)\n",
    "            proveedor_collection = base_datos.proveedor.insert_one(proveedor)\n",
    "            \n",
    "            contrato = {\n",
    "                \"idContrato\": releases[0]['id'],\n",
    "                \"descripcion\": releases[0]['tender']['description'],\n",
    "                \"estado\": releases[0]['tender']['status'],\n",
    "                \"cantidad\": releases[0]['tender']['value']['amount'],\n",
    "                \"moneda\": releases[0]['tender']['value']['currency'],\n",
    "                \"fechaFin\": releases[0]['contracts'][0]['period']['endDate'] if 'contracts' in releases[0] else None,\n",
    "                \"fechaInicio\": releases[0]['contracts'][0]['period']['startDate'] if 'contracts' in releases[0] else None,\n",
    "                \"duracionDias\": releases[0]['contracts'][0]['period']['durationInDays'] if 'contracts' in releases[0] else None,\n",
    "                \"idComprador\": comprador_collection.inserted_id,\n",
    "                \"idProveedor\": proveedor_collection.inserted_id\n",
    "            }\n",
    "            \n",
    "            # Insertar coleccion\n",
    "            contrato_collection = base_datos.contrato.insert_one(contrato)\n",
    "\n"
   ]
  },
  {
   "cell_type": "markdown",
   "metadata": {
    "id": "FukwZXDA1NTr"
   },
   "source": [
    "# Consultas a base de datos\n"
   ]
  },
  {
   "cell_type": "markdown",
   "metadata": {
    "id": "OvkjZJ3n69cC"
   },
   "source": [
    "## Consultas básicas"
   ]
  },
  {
   "cell_type": "markdown",
   "metadata": {},
   "source": [
    "#### Descripción de la consulta 1\n",
    "\n",
    "Se desea listar los contratos ordenados de forma desendente por la cantidad por el cual se realizo el contrato"
   ]
  },
  {
   "cell_type": "markdown",
   "metadata": {},
   "source": [
    "#### Resultado esperado a modo de descripción\n",
    "\n",
    "Se espera visuazlizar los datos de los contratos y que se muestren ordenanos de forma desendente por la cantidad del contrato, ademas no se desea visualizar los idProveedor e idComprador"
   ]
  },
  {
   "cell_type": "markdown",
   "metadata": {},
   "source": [
    "#### Código de la consulta en la base de datos"
   ]
  },
  {
   "cell_type": "code",
   "execution_count": null,
   "metadata": {},
   "outputs": [],
   "source": [
    "db.contrato.find({},{idProveedor:0,idComprador:0}).sort({cantidad:-1})"
   ]
  },
  {
   "cell_type": "markdown",
   "metadata": {
    "id": "AfdpcVKU7Yrn"
   },
   "source": [
    "#### Descripción de la consulta 2\n",
    "\n",
    "Se desea visuzalizar la cantidad de contratos en estado completado."
   ]
  },
  {
   "cell_type": "markdown",
   "metadata": {
    "id": "fH4jZvLW7bCx"
   },
   "source": [
    "#### Resultado esperado a modo de descripción\n",
    "\n",
    "Se espera que muestre la cantidad de contratos en estado completado 501 en total."
   ]
  },
  {
   "cell_type": "markdown",
   "metadata": {
    "id": "M_LMf-gj7dD0"
   },
   "source": [
    "#### Código de la consulta en la base de datos"
   ]
  },
  {
   "cell_type": "code",
   "execution_count": 3,
   "metadata": {
    "id": "pz8wUdrU7dtc"
   },
   "outputs": [
    {
     "ename": "SyntaxError",
     "evalue": "invalid syntax (3118567163.py, line 2)",
     "output_type": "error",
     "traceback": [
      "\u001b[1;36m  Input \u001b[1;32mIn [3]\u001b[1;36m\u001b[0m\n\u001b[1;33m    {$or: [{estado: 'complete'}]}\u001b[0m\n\u001b[1;37m     ^\u001b[0m\n\u001b[1;31mSyntaxError\u001b[0m\u001b[1;31m:\u001b[0m invalid syntax\n"
     ]
    }
   ],
   "source": [
    "db.contrato.count(\n",
    "{$or: [{estado: 'complete'}]}\n",
    ")"
   ]
  },
  {
   "cell_type": "markdown",
   "metadata": {
    "id": "DDArS81G8Srj"
   },
   "source": [
    "## Consultas avanzadas (Opcional)"
   ]
  },
  {
   "cell_type": "markdown",
   "metadata": {
    "id": "pQ7bPIOU7Crb"
   },
   "source": [
    "#### Descripción de la consulta 1\n",
    "\n",
    "Se desea visializar las caracteristicas del contrato y además la información del  municipio que compra o adquiere el bien o servicio."
   ]
  },
  {
   "cell_type": "markdown",
   "metadata": {
    "id": "TAcJpi_97IW5"
   },
   "source": [
    "#### Resultado esperado a modo de descripción\n",
    "\n",
    "Se espera obtener un json con la información de los contratos, además de losprovvedores y municipios compradores, se adjuntan 20 resultados como ejemplo, sin embargo en la búsqueda saldrán 640:\n",
    "\n",
    "\n",
    "```\n",
    "{ \n",
    "    \"_id\" : ObjectId(\"62ae1b12b111f628b8b87489\"), \n",
    "    \"idContrato\" : \"009-RE-GPLR-2021-2805-2022-05-19T11:54:13.629Z-compiled\", \n",
    "    \"descripcion\" : \"ADQUISICIÓN DE REPUESTOS, FILTROS Y LUBRICANTES PARA LOS VEHICULOS PESADOS MARCA UD TRUCKS, NISSAN CWB459 Y MAQUINARIA MARCA JCB QUE FORMAN PARTE DEL PARQUE AUTOMOTOR DEL GOBIERNO AUTONOMO DESCENTRALIZADO PROVINCIAL DE LOS RÍOS\", \n",
    "    \"estado\" : \"complete\", \n",
    "    \"cantidad\" : 609418.63, \n",
    "    \"moneda\" : \"USD\", \n",
    "    \"fechaFin\" : \"2022-04-19T00:00:00-05:00\", \n",
    "    \"fechaInicio\" : \"2021-10-21T00:00:00-05:00\", \n",
    "    \"duracionDias\" : 180.0, \n",
    "    \"idComprador\" : ObjectId(\"62ae1b11b111f628b8b87487\"), \n",
    "    \"idProveedor\" : ObjectId(\"62ae1b12b111f628b8b87488\"), \n",
    "    \"comprador\" : [\n",
    "        {\n",
    "            \"_id\" : ObjectId(\"62ae1b11b111f628b8b87487\"), \n",
    "            \"idComprador\" : \"EC-RUC-1260000140001-2805\", \n",
    "            \"nombreComprador\" : \"GOBIERNO PROVINCIAL DE LOS RIOS\", \n",
    "            \"region\" : \"LOS RIOS\", \n",
    "            \"localidad\" : \"BABAHOYO\", \n",
    "            \"nombrePais\" : \"ECUADOR\", \n",
    "            \"direccion\" : \"Av. Universitaria Clemente Baquerizo S/N CLEMENTE BAQUERIZO\"\n",
    "        }\n",
    "    ]\n",
    "}\n",
    "{ \n",
    "    \"_id\" : ObjectId(\"62ae1b12b111f628b8b8748c\"), \n",
    "    \"idContrato\" : \"1RES-GADCC-002-2021-45403-2021-11-29T11:25:40.762Z\", \n",
    "    \"descripcion\" : \"REPARACIÓN TOTAL DEL MOTOR Y CAMBIO DE VARIOS REPUESTOS Y ACCESORIOS EN MAL ESTADO PARA EL ARREGLO Y MANTENIMIENTO DEL JEEP TOYOTA LAND CRUISER PRADO N 01 DE PROPIEDAD DEL GADC-CALVAS\", \n",
    "    \"estado\" : \"complete\", \n",
    "    \"cantidad\" : 16104.38, \n",
    "    \"moneda\" : \"USD\", \n",
    "    \"fechaFin\" : null, \n",
    "    \"fechaInicio\" : null, \n",
    "    \"duracionDias\" : null, \n",
    "    \"idComprador\" : ObjectId(\"62ae1b12b111f628b8b8748a\"), \n",
    "    \"idProveedor\" : ObjectId(\"62ae1b12b111f628b8b8748b\"), \n",
    "    \"comprador\" : [\n",
    "        {\n",
    "            \"_id\" : ObjectId(\"62ae1b12b111f628b8b8748a\"), \n",
    "            \"idComprador\" : \"EC-RUC-1160000320001-45403\", \n",
    "            \"nombreComprador\" : \"MUNICIPIO DE CALVAS\", \n",
    "            \"region\" : \"AZUAY\", \n",
    "            \"localidad\" : \"CUENCA\", \n",
    "            \"nombrePais\" : \"ECUADOR\", \n",
    "            \"direccion\" : \"AV. ESPAÑA TURUHUAICO 17-30 EL VECINO\"\n",
    "        }\n",
    "    ]\n",
    "}\n",
    "{ \n",
    "    \"_id\" : ObjectId(\"62ae1b12b111f628b8b8748f\"), \n",
    "    \"idContrato\" : \"GADMCM-RE-02-2021-21126-2022-02-08T09:43:25.152Z-compiled\", \n",
    "    \"descripcion\" : \"ADQUISICION DE FILTROS, ACEITES, REPUESTOS Y ACCESORIOS PARA EL MANTENIMIENTO PREVENTIVO Y CORRECTIVO DEL EQUIPO CAMINERO Y VEHICULOS INSTITUCIONALES DEL GOBIERNO AUTONOMO DESCENTRALIZADO MUNICIPAL DEL CANTON MOCACHE\", \n",
    "    \"estado\" : \"complete\", \n",
    "    \"cantidad\" : 107142.86, \n",
    "    \"moneda\" : \"USD\", \n",
    "    \"fechaFin\" : \"2021-11-22T00:00:00-05:00\", \n",
    "    \"fechaInicio\" : \"2021-09-23T00:00:00-05:00\", \n",
    "    \"duracionDias\" : 60.0, \n",
    "    \"idComprador\" : ObjectId(\"62ae1b12b111f628b8b8748d\"), \n",
    "    \"idProveedor\" : ObjectId(\"62ae1b12b111f628b8b8748e\"), \n",
    "    \"comprador\" : [\n",
    "        {\n",
    "            \"_id\" : ObjectId(\"62ae1b12b111f628b8b8748d\"), \n",
    "            \"idComprador\" : \"EC-RUC-1260002190001-21126\", \n",
    "            \"nombreComprador\" : \"GOBIERNO MUNICIPAL DE MOCACHE\", \n",
    "            \"region\" : \"LOS RIOS\", \n",
    "            \"localidad\" : \"QUEVEDO\", \n",
    "            \"nombrePais\" : \"ECUADOR\", \n",
    "            \"direccion\" : \"DECIMA 7 DE OCTUBRE 1483 QUEVEDO\"\n",
    "        }\n",
    "    ]\n",
    "}\n",
    "{ \n",
    "    \"_id\" : ObjectId(\"62ae1b12b111f628b8b87492\"), \n",
    "    \"idContrato\" : \"PRE-GADIPMC-01-2021-2472-2022-02-08T09:44:48.186Z-compiled\", \n",
    "    \"descripcion\" : \"ADQUISICION DE REPUESTOS, ACCESORIOS Y CONTRATACION DEL SERVICIO DE MANTENIMIENTO OVERHAUL MAYOR DEL MOTOR DE LA RETROEXCAVADORA MARCA JHON DEERE 310K, SERIE 1T0310KXVED261555 PROPIEDAD DEL GADIPMC.\", \n",
    "    \"estado\" : \"complete\", \n",
    "    \"cantidad\" : 23409.95, \n",
    "    \"moneda\" : \"USD\", \n",
    "    \"fechaFin\" : \"2021-04-15T00:00:00-05:00\", \n",
    "    \"fechaInicio\" : \"2021-03-16T00:00:00-05:00\", \n",
    "    \"duracionDias\" : 30.0, \n",
    "    \"idComprador\" : ObjectId(\"62ae1b12b111f628b8b87490\"), \n",
    "    \"idProveedor\" : ObjectId(\"62ae1b12b111f628b8b87491\"), \n",
    "    \"comprador\" : [\n",
    "        {\n",
    "            \"_id\" : ObjectId(\"62ae1b12b111f628b8b87490\"), \n",
    "            \"idComprador\" : \"EC-RUC-1760003680001-2472\", \n",
    "            \"nombreComprador\" : \"GOBIERNO AUTONOMO DESCENTRALIZADO INTERCULTURAL Y PLURINACIONAL DEL MUNICIPIO DE CAYAMBE\", \n",
    "            \"region\" : \"PICHINCHA\", \n",
    "            \"localidad\" : \"CAYAMBE\", \n",
    "            \"nombrePais\" : \"ECUADOR\", \n",
    "            \"direccion\" : \"CALLE TERAN SUCRE SO-54 CAYAMBE, CABECERA CANTONAL\"\n",
    "        }\n",
    "    ]\n",
    "}\n",
    "{ \n",
    "    \"_id\" : ObjectId(\"62ae1b12b111f628b8b87495\"), \n",
    "    \"idContrato\" : \"PRE-GADMCO-007-2021-26427-2021-11-29T11:29:16.878Z\", \n",
    "    \"descripcion\" : \"ADQUISICIÓN DE REPUESTOS Y ACCESORIOS, PARA EL MANTENIMIENTO PREVENTIVO Y CORRECTIVO DE MAQUINARIAS DEL GAD MUNICIPAL DEL CANTÓN OTAVALO\", \n",
    "    \"estado\" : \"complete\", \n",
    "    \"cantidad\" : 14548.55, \n",
    "    \"moneda\" : \"USD\", \n",
    "    \"fechaFin\" : null, \n",
    "    \"fechaInicio\" : null, \n",
    "    \"duracionDias\" : null, \n",
    "    \"idComprador\" : ObjectId(\"62ae1b12b111f628b8b87493\"), \n",
    "    \"idProveedor\" : ObjectId(\"62ae1b12b111f628b8b87494\"), \n",
    "    \"comprador\" : [\n",
    "        {\n",
    "            \"_id\" : ObjectId(\"62ae1b12b111f628b8b87493\"), \n",
    "            \"idComprador\" : \"EC-RUC-1060000500001-26427\", \n",
    "            \"nombreComprador\" : \"GOBIERNO AUTONOMO DESCENTRALIZADO MUNICIPAL DEL CANTON OTAVALO\", \n",
    "            \"region\" : \"GUAYAS\", \n",
    "            \"localidad\" : \"GUAYAQUIL\", \n",
    "            \"nombrePais\" : \"ECUADOR\", \n",
    "            \"direccion\" : \"AV. JUAN TANCA MARENGO  S/N TARQUI\"\n",
    "        }\n",
    "    ]\n",
    "}\n",
    "{ \n",
    "    \"_id\" : ObjectId(\"62ae1b12b111f628b8b87498\"), \n",
    "    \"idContrato\" : \"RE-001-SZ-SE-2021-179014-2021-11-29T10:57:05.144Z\", \n",
    "    \"descripcion\" : \"SERVICIO DE MANTENIMIENTO PREVENTIVO NO ESTIPULADO EN LAS TIQUETERAS Y CORRECTIVO MANTENIMIENTO CAMBIO DE ACCESORIOS, DE PARTES Y PIEZAS Y MANO DE OBRA DE LOS VEHÍCULOS POLICIALES MARCA KIA EXISTENTES EN LA SUB ZONA DE POLICÍA SANTA ELENA.\", \n",
    "    \"estado\" : \"complete\", \n",
    "    \"cantidad\" : 120000.0, \n",
    "    \"moneda\" : \"USD\", \n",
    "    \"fechaFin\" : \"2022-03-30T00:00:00-05:00\", \n",
    "    \"fechaInicio\" : \"2021-06-16T00:00:00-05:00\", \n",
    "    \"duracionDias\" : 287.0, \n",
    "    \"idComprador\" : ObjectId(\"62ae1b12b111f628b8b87496\"), \n",
    "    \"idProveedor\" : ObjectId(\"62ae1b12b111f628b8b87497\"), \n",
    "    \"comprador\" : [\n",
    "        {\n",
    "            \"_id\" : ObjectId(\"62ae1b12b111f628b8b87496\"), \n",
    "            \"idComprador\" : \"EC-RUC-0968582050001-179014\", \n",
    "            \"nombreComprador\" : \"MINISTERIO DE GOBIERNO COMANDO PROVINCIAL SANTA ELENA N 24\", \n",
    "            \"region\" : \"SANTA ELENA\", \n",
    "            \"localidad\" : \"SANTA ELENA\", \n",
    "            \"nombrePais\" : \"ECUADOR\", \n",
    "            \"direccion\" : \"9 DE OCTUBRE ROCAFUERTE SOLAR 1 SANTA ELENA\"\n",
    "        }\n",
    "    ]\n",
    "}\n",
    "{ \n",
    "    \"_id\" : ObjectId(\"62ae1b12b111f628b8b8749b\"), \n",
    "    \"idContrato\" : \"RE-002-GADMA-2021-2741-2022-03-31T11:00:56.544Z-compiled\", \n",
    "    \"descripcion\" : \"Adquisición de repuestos, accesorios y lubricantes para el mantenimiento de los vehículos de emergencia  del Cuerpo de Bomberos Municipal del cantón Archidona\", \n",
    "    \"estado\" : \"complete\", \n",
    "    \"cantidad\" : 8248.72, \n",
    "    \"moneda\" : \"USD\", \n",
    "    \"fechaFin\" : \"2021-07-04T00:00:00-05:00\", \n",
    "    \"fechaInicio\" : \"2021-06-04T00:00:00-05:00\", \n",
    "    \"duracionDias\" : 30.0, \n",
    "    \"idComprador\" : ObjectId(\"62ae1b12b111f628b8b87499\"), \n",
    "    \"idProveedor\" : ObjectId(\"62ae1b12b111f628b8b8749a\"), \n",
    "    \"comprador\" : [\n",
    "        {\n",
    "            \"_id\" : ObjectId(\"62ae1b12b111f628b8b87499\"), \n",
    "            \"idComprador\" : \"EC-RUC-1560000430001-2741\", \n",
    "            \"nombreComprador\" : \"GOBIERNO MUNICIPAL DE ARCHIDONA\", \n",
    "            \"region\" : \"NAPO\", \n",
    "            \"localidad\" : \"ARCHIDONA\", \n",
    "            \"nombrePais\" : \"ECUADOR\", \n",
    "            \"direccion\" : \"Av. Napo Trasnversal 16  ARCHIDONA, CABECERA CANTONAL\"\n",
    "        }\n",
    "    ]\n",
    "}\n",
    "{ \n",
    "    \"_id\" : ObjectId(\"62ae1b12b111f628b8b8749e\"), \n",
    "    \"idContrato\" : \"RE-004-GADMSF-2021-86018-2021-12-21T15:46:31.964Z-compiled\", \n",
    "    \"descripcion\" : \"ADQUISICION DE REPUESTOS / ACCESORIOS Y MANO DE OBRA PARA EL MANTENIMIENTO CORRECTIVO PARA LA RETROEXCAVADORA CASE PERTENECIENTE AL GAD MUNICIPAL DEL CANTON SAN FERNANDO\", \n",
    "    \"estado\" : \"complete\", \n",
    "    \"cantidad\" : 5011.42, \n",
    "    \"moneda\" : \"USD\", \n",
    "    \"fechaFin\" : \"2021-08-02T00:00:00-05:00\", \n",
    "    \"fechaInicio\" : \"2021-07-28T00:00:00-05:00\", \n",
    "    \"duracionDias\" : 5.0, \n",
    "    \"idComprador\" : ObjectId(\"62ae1b12b111f628b8b8749c\"), \n",
    "    \"idProveedor\" : ObjectId(\"62ae1b12b111f628b8b8749d\"), \n",
    "    \"comprador\" : [\n",
    "        {\n",
    "            \"_id\" : ObjectId(\"62ae1b12b111f628b8b8749c\"), \n",
    "            \"idComprador\" : \"EC-RUC-0160000940001-86018\", \n",
    "            \"nombreComprador\" : \"GOBIERNO AUTONOMO DESCENTRALIZADO MUNICIPAL DE SAN FERNANDO\", \n",
    "            \"region\" : \"AZUAY\", \n",
    "            \"localidad\" : \"CUENCA\", \n",
    "            \"nombrePais\" : \"ECUADOR\", \n",
    "            \"direccion\" : \"VICENTE ROCAFUERTE JOSE JOAQUIN DE OLMEDO 2-122 SAN BLAS\"\n",
    "        }\n",
    "    ]\n",
    "}\n",
    "{ \n",
    "    \"_id\" : ObjectId(\"62ae1b12b111f628b8b874a1\"), \n",
    "    \"idContrato\" : \"RE-004GMMM-2021-107336-2021-12-29T15:57:36.711Z-compiled\", \n",
    "    \"descripcion\" : \"ADQUISICION DE REPUESTOS PARA MOTONIVELADORA MITSUBISH MG-430\", \n",
    "    \"estado\" : \"complete\", \n",
    "    \"cantidad\" : 12657.65, \n",
    "    \"moneda\" : \"USD\", \n",
    "    \"fechaFin\" : \"2021-06-18T00:00:00-05:00\", \n",
    "    \"fechaInicio\" : \"2021-05-19T00:00:00-05:00\", \n",
    "    \"duracionDias\" : 30.0, \n",
    "    \"idComprador\" : ObjectId(\"62ae1b12b111f628b8b8749f\"), \n",
    "    \"idProveedor\" : ObjectId(\"62ae1b12b111f628b8b874a0\"), \n",
    "    \"comprador\" : [\n",
    "        {\n",
    "            \"_id\" : ObjectId(\"62ae1b12b111f628b8b8749f\"), \n",
    "            \"idComprador\" : \"EC-RUC-0960006260001-107336\", \n",
    "            \"nombreComprador\" : \"MUNICIPALIDAD DE MARCELINO MARIDUEÑA\", \n",
    "            \"region\" : \"GUAYAS\", \n",
    "            \"localidad\" : \"CORONEL MARCELINO MARIDUEÑA\", \n",
    "            \"nombrePais\" : \"ECUADOR\", \n",
    "            \"direccion\" : \"AV. MALECON  AV. ACAPULCO S/N CORONEL MARCELINO MARIDUEÑA, CABECERA CANTONAL\"\n",
    "        }\n",
    "    ]\n",
    "}\n",
    "{ \n",
    "    \"_id\" : ObjectId(\"62ae1b12b111f628b8b874a4\"), \n",
    "    \"idContrato\" : \"RE-003-GADMA-2021-2741-2022-02-18T09:52:33.612Z-compiled\", \n",
    "    \"descripcion\" : \"ADQUISICIÓN DE REPUESTOS Y SERVICIOS DE MANO DE OBRA PARA EL MANTENIMIENTO CORRECTIVO DE LAS VOLQUETAS CÓDIGO 04-051 04-052 04-054 04-055 04-056, 04-057 04-058, 04-045 04-046\", \n",
    "    \"estado\" : \"complete\", \n",
    "    \"cantidad\" : 32038.51, \n",
    "    \"moneda\" : \"USD\", \n",
    "    \"fechaFin\" : \"2021-09-26T00:00:00-05:00\", \n",
    "    \"fechaInicio\" : \"2021-08-27T00:00:00-05:00\", \n",
    "    \"duracionDias\" : 30.0, \n",
    "    \"idComprador\" : ObjectId(\"62ae1b12b111f628b8b874a2\"), \n",
    "    \"idProveedor\" : ObjectId(\"62ae1b12b111f628b8b874a3\"), \n",
    "    \"comprador\" : [\n",
    "        {\n",
    "            \"_id\" : ObjectId(\"62ae1b12b111f628b8b874a2\"), \n",
    "            \"idComprador\" : \"EC-RUC-1560000430001-2741\", \n",
    "            \"nombreComprador\" : \"GOBIERNO MUNICIPAL DE ARCHIDONA\", \n",
    "            \"region\" : \"NAPO\", \n",
    "            \"localidad\" : \"ARCHIDONA\", \n",
    "            \"nombrePais\" : \"ECUADOR\", \n",
    "            \"direccion\" : \"Av. Napo Trasnversal 16  ARCHIDONA, CABECERA CANTONAL\"\n",
    "        }\n",
    "    ]\n",
    "}\n",
    "{ \n",
    "    \"_id\" : ObjectId(\"62ae1b12b111f628b8b874a7\"), \n",
    "    \"idContrato\" : \"RE-009-GADMA-2021-2741-2022-02-18T09:53:10.176Z-compiled\", \n",
    "    \"descripcion\" : \"ADQUISICIÓN DE REPUESTOS QUE CONFORMAN EL TREN DE RODAJE DE LAS EXCAVADORAS CATERPILLAR CÓDIGO: 04-047, 04-003 Y EL TRACTOR KOMATSU CÓDIGO: 04-049 PERTENECIENTES AL GAD MUNICIPAL DE ARCHIDONA\", \n",
    "    \"estado\" : \"complete\", \n",
    "    \"cantidad\" : 68870.48, \n",
    "    \"moneda\" : \"USD\", \n",
    "    \"fechaFin\" : \"2021-11-20T00:00:00-05:00\", \n",
    "    \"fechaInicio\" : \"2021-10-21T00:00:00-05:00\", \n",
    "    \"duracionDias\" : 30.0, \n",
    "    \"idComprador\" : ObjectId(\"62ae1b12b111f628b8b874a5\"), \n",
    "    \"idProveedor\" : ObjectId(\"62ae1b12b111f628b8b874a6\"), \n",
    "    \"comprador\" : [\n",
    "        {\n",
    "            \"_id\" : ObjectId(\"62ae1b12b111f628b8b874a5\"), \n",
    "            \"idComprador\" : \"EC-RUC-1560000430001-2741\", \n",
    "            \"nombreComprador\" : \"GOBIERNO MUNICIPAL DE ARCHIDONA\", \n",
    "            \"region\" : \"NAPO\", \n",
    "            \"localidad\" : \"ARCHIDONA\", \n",
    "            \"nombrePais\" : \"ECUADOR\", \n",
    "            \"direccion\" : \"Av. Napo Trasnversal 16  ARCHIDONA, CABECERA CANTONAL\"\n",
    "        }\n",
    "    ]\n",
    "}\n",
    "{ \n",
    "    \"_id\" : ObjectId(\"62ae1b12b111f628b8b874aa\"), \n",
    "    \"idContrato\" : \"RE-01-GADMBA-2021-115525-2021-11-29T10:41:43.287Z\", \n",
    "    \"descripcion\" : \"ADQUISICIÓN DE REPUESTOS Y MANO DE OBRA PARA LA REPARACIÓN DE LA VOLQUETA MARCA UD TRUCKS- PLACAS IMA1451, RETROEXCAVADORA MARCA CATERPILLAR- MODELO 416E Y MINICARGADORA MARCA JCB- MODELO 250SF DE LA PROPIEDAD DEL GADPR LA MERCED DE BUENOS AIRES\", \n",
    "    \"estado\" : \"complete\", \n",
    "    \"cantidad\" : 7100.0, \n",
    "    \"moneda\" : \"USD\", \n",
    "    \"fechaFin\" : \"2021-12-07T00:00:00-05:00\", \n",
    "    \"fechaInicio\" : \"2021-06-10T00:00:00-05:00\", \n",
    "    \"duracionDias\" : 180.0, \n",
    "    \"idComprador\" : ObjectId(\"62ae1b12b111f628b8b874a8\"), \n",
    "    \"idProveedor\" : ObjectId(\"62ae1b12b111f628b8b874a9\"), \n",
    "    \"comprador\" : [\n",
    "        {\n",
    "            \"_id\" : ObjectId(\"62ae1b12b111f628b8b874a8\"), \n",
    "            \"idComprador\" : \"EC-RUC-1060014990001-115525\", \n",
    "            \"nombreComprador\" : \"GOBIERNO AUTONOMO DESCENTRALIZADO PARROQUIAL RURAL LA MERCED DE BUENOS AIRES\", \n",
    "            \"region\" : \"IMBABURA\", \n",
    "            \"localidad\" : \"IBARRA\", \n",
    "            \"nombrePais\" : \"ECUADOR\", \n",
    "            \"direccion\" : \"CRISTOBAL DE TROYA TOBAR SUBIA  SAGRARIO\"\n",
    "        }\n",
    "    ]\n",
    "}\n",
    "{ \n",
    "    \"_id\" : ObjectId(\"62ae1b12b111f628b8b874ad\"), \n",
    "    \"idContrato\" : \"RE-BCBVC-2021-04-58237-2021-11-29T11:15:46.530Z\", \n",
    "    \"descripcion\" : \"ADQUISICIÓN DE REPUESTOS PARA MANTENIMIENTO CORRECTIVOREPARACIÓN DE MOTOR DEL VEHÍCULO POLIVALENTE 1\", \n",
    "    \"estado\" : \"complete\", \n",
    "    \"cantidad\" : 10215.44, \n",
    "    \"moneda\" : \"USD\", \n",
    "    \"fechaFin\" : \"2021-11-06T00:00:00-05:00\", \n",
    "    \"fechaInicio\" : \"2021-09-22T00:00:00-05:00\", \n",
    "    \"duracionDias\" : 45.0, \n",
    "    \"idComprador\" : ObjectId(\"62ae1b12b111f628b8b874ab\"), \n",
    "    \"idProveedor\" : ObjectId(\"62ae1b12b111f628b8b874ac\"), \n",
    "    \"comprador\" : [\n",
    "        {\n",
    "            \"_id\" : ObjectId(\"62ae1b12b111f628b8b874ab\"), \n",
    "            \"idComprador\" : \"EC-RUC-0160012440001-58237\", \n",
    "            \"nombreComprador\" : \"Benemérito Cuerpo de Bomberos Voluntarios de Cuenca\", \n",
    "            \"region\" : \"AZUAY\", \n",
    "            \"localidad\" : \"CUENCA\", \n",
    "            \"nombrePais\" : \"ECUADOR\", \n",
    "            \"direccion\" : \"RAFAEL MARIA ARIZAGA MIGUEL HEREDIA SN SAN SEBASTIAN\"\n",
    "        }\n",
    "    ]\n",
    "}\n",
    "{ \n",
    "    \"_id\" : ObjectId(\"62ae1b12b111f628b8b874b0\"), \n",
    "    \"idContrato\" : \"REByS-AEP-1-2021-318345-2021-11-29T11:25:25.393Z\", \n",
    "    \"descripcion\" : \"Adquisición de Repuestos y Accesorios, para el Mantenimiento, Implementación y Reparación de la Pavimentadora de Asfalto Finisher A120, Marca Bomag, Modelo Bf600, de Propiedad de la Empresa Pública De Áridos Y Asfaltos Del Azuay, Asfaltar EP\", \n",
    "    \"estado\" : \"complete\", \n",
    "    \"cantidad\" : 56612.9, \n",
    "    \"moneda\" : \"USD\", \n",
    "    \"fechaFin\" : null, \n",
    "    \"fechaInicio\" : null, \n",
    "    \"duracionDias\" : null, \n",
    "    \"idComprador\" : ObjectId(\"62ae1b12b111f628b8b874ae\"), \n",
    "    \"idProveedor\" : ObjectId(\"62ae1b12b111f628b8b874af\"), \n",
    "    \"comprador\" : [\n",
    "        {\n",
    "            \"_id\" : ObjectId(\"62ae1b12b111f628b8b874ae\"), \n",
    "            \"idComprador\" : \"EC-RUC-0160050450001-318345\", \n",
    "            \"nombreComprador\" : \"Empresa Pública de Áridos y Asfaltos del Azuay\", \n",
    "            \"region\" : \"AZUAY\", \n",
    "            \"localidad\" : \"CUENCA\", \n",
    "            \"nombrePais\" : \"ECUADOR\", \n",
    "            \"direccion\" : \"AV MAX UHLE, DIAGONAL A LA EMPRESA ELECTRICA CENTRO SUR S.A EDUARDO CEVALLOS GARCIA S/N CAÑARIBAMBA\"\n",
    "        }\n",
    "    ]\n",
    "}\n",
    "{ \n",
    "    \"_id\" : ObjectId(\"62ae1b12b111f628b8b874b3\"), \n",
    "    \"idContrato\" : \"RE-CBG-003-2021-28094-2021-11-29T11:17:24.031Z\", \n",
    "    \"descripcion\" : \"?MANTENIMIENTO DEL VEHÍCULO MERCEDES BENZ, MODELO SPRINTER 313, UNIDAD A2, PLACAS AEF0043?\", \n",
    "    \"estado\" : \"complete\", \n",
    "    \"cantidad\" : 2671.07, \n",
    "    \"moneda\" : \"USD\", \n",
    "    \"fechaFin\" : \"2021-11-10T00:00:00-05:00\", \n",
    "    \"fechaInicio\" : \"2021-10-11T00:00:00-05:00\", \n",
    "    \"duracionDias\" : 30.0, \n",
    "    \"idComprador\" : ObjectId(\"62ae1b12b111f628b8b874b1\"), \n",
    "    \"idProveedor\" : ObjectId(\"62ae1b12b111f628b8b874b2\"), \n",
    "    \"comprador\" : [\n",
    "        {\n",
    "            \"_id\" : ObjectId(\"62ae1b12b111f628b8b874b1\"), \n",
    "            \"idComprador\" : \"EC-RUC-1768099730001-28094\", \n",
    "            \"nombreComprador\" : \"CUERPO DE BOMBEROS DE GUALACEO\", \n",
    "            \"region\" : \"AZUAY\", \n",
    "            \"localidad\" : \"GUALACEO\", \n",
    "            \"nombrePais\" : \"ECUADOR\", \n",
    "            \"direccion\" : \"GRAN COLOMBIA / SECTOR NORTE  BENIGNO VASQUEZ / PARQUE SIMON BOLIVAR S/N GUALACEO, CABECERA CANTONAL\"\n",
    "        }\n",
    "    ]\n",
    "}\n",
    "{ \n",
    "    \"_id\" : ObjectId(\"62ae1b12b111f628b8b874b6\"), \n",
    "    \"idContrato\" : \"RE-CCQAHDCH-003-2021-80443-2021-11-29T11:44:50.200Z\", \n",
    "    \"descripcion\" : \"CONTRATACIÓN DEL SERVICIO DE MANTENIMIENTO CORRECTIVO DE LA TORRE DE VIDEO ENDOSCOPÍA Y COLONOSCOPÍA MARCA FUJINON\", \n",
    "    \"estado\" : \"complete\", \n",
    "    \"cantidad\" : 4096.11, \n",
    "    \"moneda\" : \"USD\", \n",
    "    \"fechaFin\" : null, \n",
    "    \"fechaInicio\" : null, \n",
    "    \"duracionDias\" : null, \n",
    "    \"idComprador\" : ObjectId(\"62ae1b12b111f628b8b874b4\"), \n",
    "    \"idProveedor\" : ObjectId(\"62ae1b12b111f628b8b874b5\"), \n",
    "    \"comprador\" : [\n",
    "        {\n",
    "            \"_id\" : ObjectId(\"62ae1b12b111f628b8b874b4\"), \n",
    "            \"idComprador\" : \"EC-RUC-1768113580001-80443\", \n",
    "            \"nombreComprador\" : \"CENTRO CLINICO QUIRURGICO AMBULATORIO HOSPITAL DEL DIA CHIMBACALLE\", \n",
    "            \"region\" : \"GUAYAS\", \n",
    "            \"localidad\" : \"GUAYAQUIL\", \n",
    "            \"nombrePais\" : \"ECUADOR\", \n",
    "            \"direccion\" : \"S/N  SOLAR 28 TARQUI\"\n",
    "        }\n",
    "    ]\n",
    "}\n",
    "{ \n",
    "    \"_id\" : ObjectId(\"62ae1b12b111f628b8b874b9\"), \n",
    "    \"idContrato\" : \"RE-CDPNM-2021-001-180449-2021-11-29T10:47:14.379Z\", \n",
    "    \"descripcion\" : \"Contratacion del servicio de mantenimiento preventivo, correctivo y mecanica en general con provision de respuestos que no constan en la tiquetera de los vehiculos kia qeu pertenecen al Distrito de Policia Manta\", \n",
    "    \"estado\" : \"complete\", \n",
    "    \"cantidad\" : 83810.52, \n",
    "    \"moneda\" : \"USD\", \n",
    "    \"fechaFin\" : \"2022-02-20T00:00:00-05:00\", \n",
    "    \"fechaInicio\" : \"2021-04-20T00:00:00-05:00\", \n",
    "    \"duracionDias\" : 306.0, \n",
    "    \"idComprador\" : ObjectId(\"62ae1b12b111f628b8b874b7\"), \n",
    "    \"idProveedor\" : ObjectId(\"62ae1b12b111f628b8b874b8\"), \n",
    "    \"comprador\" : [\n",
    "        {\n",
    "            \"_id\" : ObjectId(\"62ae1b12b111f628b8b874b7\"), \n",
    "            \"idComprador\" : \"EC-RUC-1360061690001-180449\", \n",
    "            \"nombreComprador\" : \"Comando Cantonal de Policía Manta\", \n",
    "            \"region\" : \"MANABI\", \n",
    "            \"localidad\" : \"MANTA\", \n",
    "            \"nombrePais\" : \"ECUADOR\", \n",
    "            \"direccion\" : \"Calle 119 a lado del Colegio Pedro Balda Av. 113 s/n TARQUI\"\n",
    "        }\n",
    "    ]\n",
    "}\n",
    "{ \n",
    "    \"_id\" : ObjectId(\"62ae1b12b111f628b8b874bc\"), \n",
    "    \"idContrato\" : \"RE-CP4-001-2021-62409-2021-11-29T10:39:06.972Z\", \n",
    "    \"descripcion\" : \"SERVICIO DE MANTENIMIENTO CORRECTIVO PARA VEHICULOS POLICIALES MARCA KIA SPORTAGE Y KIA CERATO PERTENECIENTES A LA SUBZONA MANABI EXCEPTO EL DISTRITO MANTA\", \n",
    "    \"estado\" : \"complete\", \n",
    "    \"cantidad\" : 91768.08, \n",
    "    \"moneda\" : \"USD\", \n",
    "    \"fechaFin\" : \"2021-12-18T00:00:00-05:00\", \n",
    "    \"fechaInicio\" : \"2021-03-23T00:00:00-05:00\", \n",
    "    \"duracionDias\" : 270.0, \n",
    "    \"idComprador\" : ObjectId(\"62ae1b12b111f628b8b874ba\"), \n",
    "    \"idProveedor\" : ObjectId(\"62ae1b12b111f628b8b874bb\"), \n",
    "    \"comprador\" : [\n",
    "        {\n",
    "            \"_id\" : ObjectId(\"62ae1b12b111f628b8b874ba\"), \n",
    "            \"idComprador\" : \"EC-RUC-1360019810001-62409\", \n",
    "            \"nombreComprador\" : \"Comando Provincial de Policìa Manabì No. 4\", \n",
    "            \"region\" : \"MANABI\", \n",
    "            \"localidad\" : \"PORTOVIEJO\", \n",
    "            \"nombrePais\" : \"ECUADOR\", \n",
    "            \"direccion\" : \"Km. 2 1/2 via a Crucita Gasolinera Repsol CP4 12 DE MARZO\"\n",
    "        }\n",
    "    ]\n",
    "}\n",
    "{ \n",
    "    \"_id\" : ObjectId(\"62ae1b12b111f628b8b874bf\"), \n",
    "    \"idContrato\" : \"RE-CP4-002-2021-62409-2021-11-29T10:43:25.322Z\", \n",
    "    \"descripcion\" : \"CONTRATACIÓN DEL SERVICIO DE MANTENIMIENTO PREVENTIVO Y CORRECTIVO PARA VEHICULOS MARCA KIA SPORTAGE Y KIA CERATO PERTENECEINTES A LA SUBZONA MANABI, EXCEPTO EL DISTRITO MANTA SEGUNDO PERIODO 2021\", \n",
    "    \"estado\" : \"complete\", \n",
    "    \"cantidad\" : 35714.29, \n",
    "    \"moneda\" : \"USD\", \n",
    "    \"fechaFin\" : \"2021-12-30T00:00:00-05:00\", \n",
    "    \"fechaInicio\" : \"2021-09-01T00:00:00-05:00\", \n",
    "    \"duracionDias\" : 120.0, \n",
    "    \"idComprador\" : ObjectId(\"62ae1b12b111f628b8b874bd\"), \n",
    "    \"idProveedor\" : ObjectId(\"62ae1b12b111f628b8b874be\"), \n",
    "    \"comprador\" : [\n",
    "        {\n",
    "            \"_id\" : ObjectId(\"62ae1b12b111f628b8b874bd\"), \n",
    "            \"idComprador\" : \"EC-RUC-1360019810001-62409\", \n",
    "            \"nombreComprador\" : \"Comando Provincial de Policìa Manabì No. 4\", \n",
    "            \"region\" : \"MANABI\", \n",
    "            \"localidad\" : \"PORTOVIEJO\", \n",
    "            \"nombrePais\" : \"ECUADOR\", \n",
    "            \"direccion\" : \"Km. 2 1/2 via a Crucita Gasolinera Repsol CP4 12 DE MARZO\"\n",
    "        }\n",
    "    ]\n",
    "}\n",
    "{ \n",
    "    \"_id\" : ObjectId(\"62ae1b12b111f628b8b874c2\"), \n",
    "    \"idContrato\" : \"RE-DD11D03-002-2021-18841-2021-11-29T10:51:28.058Z\", \n",
    "    \"descripcion\" : \"ADQUISICIÓN DE REPUESTOS PARA EL MANTENIMIENTO CORRECTIVO – PREVENTIVO DE LOS EQUIPOS DE DIAGNÓSTICO DE LAS MARCAS ELITECH, MINDRAY Y BEHNK ELEKTRONIK, DEL SERVICIO DE LABORATORIO CLINICO DEL HOSPITAL BÁSICO DE CATACOCHA\", \n",
    "    \"estado\" : \"complete\", \n",
    "    \"cantidad\" : 13412.0, \n",
    "    \"moneda\" : \"USD\", \n",
    "    \"fechaFin\" : \"2021-06-01T00:00:00-05:00\", \n",
    "    \"fechaInicio\" : \"2021-05-12T00:00:00-05:00\", \n",
    "    \"duracionDias\" : 20.0, \n",
    "    \"idComprador\" : ObjectId(\"62ae1b12b111f628b8b874c0\"), \n",
    "    \"idProveedor\" : ObjectId(\"62ae1b12b111f628b8b874c1\"), \n",
    "    \"comprador\" : [\n",
    "        {\n",
    "            \"_id\" : ObjectId(\"62ae1b12b111f628b8b874c0\"), \n",
    "            \"idComprador\" : \"EC-RUC-1160005470001-18841\", \n",
    "            \"nombreComprador\" : \"DIRECCION DISTRITAL 11D03 - PALTAS - CATAMAYO - CHAGUARPAMBA - OLMEDO - SALUD\", \n",
    "            \"region\" : \"LOJA\", \n",
    "            \"localidad\" : \"PALTAS\", \n",
    "            \"nombrePais\" : \"ECUADOR\", \n",
    "            \"direccion\" : \"AV. PANAMERICANA LA AVELINA / JUNTO AL SINDICATO DE CHOFERES S/N CATACOCHA\"\n",
    "        }\n",
    "    ]\n",
    "}\n",
    "\n",
    "```"
   ]
  },
  {
   "cell_type": "markdown",
   "metadata": {
    "id": "JDYK2EYP7PeS"
   },
   "source": [
    "#### Código de la consulta en la base de datos"
   ]
  },
  {
   "cell_type": "code",
   "execution_count": 22,
   "metadata": {
    "id": "w7LMxMfi7Uez"
   },
   "outputs": [
    {
     "ename": "SyntaxError",
     "evalue": "invalid syntax (756130838.py, line 4)",
     "output_type": "error",
     "traceback": [
      "\u001b[1;36m  Input \u001b[1;32mIn [22]\u001b[1;36m\u001b[0m\n\u001b[1;33m    $match: {\u001b[0m\n\u001b[1;37m    ^\u001b[0m\n\u001b[1;31mSyntaxError\u001b[0m\u001b[1;31m:\u001b[0m invalid syntax\n"
     ]
    }
   ],
   "source": [
    "db.contrato.aggregate(\n",
    "[\n",
    "    {\n",
    "        $lookup: {\n",
    "            from: \"comprador\",\n",
    "            localField: \"idComprador\",\n",
    "            foreignField: \"_id\",\n",
    "            as: \"comprador\"\n",
    "        }\n",
    "    }\n",
    "]\n",
    ").pretty()"
   ]
  },
  {
   "cell_type": "markdown",
   "metadata": {},
   "source": [
    "# MongoDB Charts (Opcional)"
   ]
  },
  {
   "cell_type": "markdown",
   "metadata": {},
   "source": [
    "![Cantidad de contrados segun se estado](content/actividad_2_chart.png \"Cantidad de contrados segun se estado\")"
   ]
  },
  {
   "cell_type": "markdown",
   "metadata": {
    "id": "F1CR6sSp1Rt6"
   },
   "source": [
    "# Conclusiones\n",
    "\n",
    "- Al ser una base de datos no relacional el modelado es de tipo descriptivo, lo que permite que las tablas o relaciones se creen mediente o al final del proceso, dando opción a modificaciones.\n",
    "- Las bases de datos no relacionales ofrecen un nuevo paradigma, al almacenar datos de tipo no estructurados y en grandes cantidades, mejorando el rendimiento.\n",
    "- Para modelar una base de datos no relacional es importante tener en claro como se van a realizar las consultas, de acuerdo con esto se decide si se desea referencial o con documentos, priorizando la falicidad al momentos de realizar búsquedas\n"
   ]
  }
 ],
 "metadata": {
  "colab": {
   "collapsed_sections": [],
   "name": "actividad2.ipynb",
   "provenance": []
  },
  "kernelspec": {
   "display_name": "Python 3 (ipykernel)",
   "language": "python",
   "name": "python3"
  },
  "language_info": {
   "codemirror_mode": {
    "name": "ipython",
    "version": 3
   },
   "file_extension": ".py",
   "mimetype": "text/x-python",
   "name": "python",
   "nbconvert_exporter": "python",
   "pygments_lexer": "ipython3",
   "version": "3.8.5"
  }
 },
 "nbformat": 4,
 "nbformat_minor": 1
}
